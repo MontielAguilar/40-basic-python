{
 "cells": [
  {
   "cell_type": "markdown",
   "id": "107f48ee-52a0-4c31-8616-62f0c6d08c44",
   "metadata": {},
   "source": [
    "# 2.-Introducción a la Programación con Python"
   ]
  },
  {
   "cell_type": "markdown",
   "id": "b4b3f36d-d890-4bbf-9a7d-d3b41fac5f28",
   "metadata": {},
   "source": [
    "## 2.2.- Operadores Aritméticos"
   ]
  },
  {
   "cell_type": "markdown",
   "id": "c4ef828e-4186-407b-ad79-ba97eed7c741",
   "metadata": {},
   "source": [
    "### 2.2.1.- Variables y asignaciones"
   ]
  },
  {
   "cell_type": "markdown",
   "id": "ea41ab63-e16c-49b9-83c6-d596c6d5bf1f",
   "metadata": {},
   "source": [
    "Ya has usado iPython de calculadora con expresiones como sumas"
   ]
  },
  {
   "cell_type": "markdown",
   "id": "67de4824-f60b-42ad-94c0-88ef30c200f7",
   "metadata": {},
   "source": [
    "Creemos una variable w que valga 39"
   ]
  },
  {
   "cell_type": "code",
   "execution_count": null,
   "id": "8bc4f8d0-21dc-49ab-9dcc-3f3cff6dcad1",
   "metadata": {},
   "outputs": [],
   "source": [
    "w=39"
   ]
  },
  {
   "cell_type": "markdown",
   "id": "005e7373-42db-4a0d-adfd-9bbce8142a24",
   "metadata": {},
   "source": [
    "#### Por tu cuenta\n",
    "\n",
    "Calcula la suma de 10.8, 12.2 y 0.2, guardala en una variable llamada b, y muestra la variable"
   ]
  },
  {
   "cell_type": "code",
   "execution_count": 1,
   "id": "b311d94d-52f6-4118-a6aa-76bea95587ab",
   "metadata": {},
   "outputs": [
    {
     "name": "stdout",
     "output_type": "stream",
     "text": [
      "23.2\n"
     ]
    }
   ],
   "source": [
    "b = 10.8 + 12.2 + 0.2\n",
    "print (b)"
   ]
  },
  {
   "cell_type": "markdown",
   "id": "9465c9ba-b34b-429a-8881-36d24df64a7e",
   "metadata": {},
   "source": [
    "### 2.2.2.- Aritmetica"
   ]
  },
  {
   "cell_type": "markdown",
   "id": "7b42b218-4742-47d9-b736-e98261be0587",
   "metadata": {},
   "source": [
    "##### Multiplicación \n",
    "\n",
    "Realiza un 7 * 4"
   ]
  },
  {
   "cell_type": "code",
   "execution_count": 2,
   "id": "6b91ef2e-d2e0-4b02-8f26-0711925b0776",
   "metadata": {},
   "outputs": [
    {
     "name": "stdout",
     "output_type": "stream",
     "text": [
      "28\n"
     ]
    }
   ],
   "source": [
    "c= 7 * 4\n",
    "print (c)"
   ]
  },
  {
   "cell_type": "markdown",
   "id": "6d23d001-7a4c-4145-b914-2f82ed77037a",
   "metadata": {},
   "source": [
    "##### Exponenciación\n",
    "\n",
    "Realiza un 2 ** 4"
   ]
  },
  {
   "cell_type": "code",
   "execution_count": 3,
   "id": "9099f0a2-8c8a-43bb-89f7-1777ad5ffcad",
   "metadata": {},
   "outputs": [
    {
     "name": "stdout",
     "output_type": "stream",
     "text": [
      "16\n"
     ]
    }
   ],
   "source": [
    "c= 2 ** 4\n",
    "print (c)"
   ]
  },
  {
   "cell_type": "markdown",
   "id": "7221d3fd-6edd-4646-960e-5234eb1224cb",
   "metadata": {},
   "source": [
    "##### División Verdadera\n",
    "\n",
    "Divide 8/5"
   ]
  },
  {
   "cell_type": "code",
   "execution_count": 4,
   "id": "956eaff7-044d-4321-9117-9c79838fdfe9",
   "metadata": {},
   "outputs": [
    {
     "name": "stdout",
     "output_type": "stream",
     "text": [
      "1.6\n"
     ]
    }
   ],
   "source": [
    "c = 8/5\n",
    "\n",
    "print (c)"
   ]
  },
  {
   "cell_type": "markdown",
   "id": "acd82688-1da7-4d4b-8770-a2c8cf1a9959",
   "metadata": {},
   "source": [
    "##### División de piso\n",
    "\n",
    "Divide 20//6 - verás como te da un rsultado entero"
   ]
  },
  {
   "cell_type": "code",
   "execution_count": 5,
   "id": "5bdd55d8-2a08-49b5-80bd-98c741b5b3a1",
   "metadata": {},
   "outputs": [
    {
     "name": "stdout",
     "output_type": "stream",
     "text": [
      "3\n"
     ]
    }
   ],
   "source": [
    "c=20//6\n",
    "print(c)"
   ]
  },
  {
   "cell_type": "markdown",
   "id": "7c5a2f8a-d79d-40f6-a019-ac2ad4e176b8",
   "metadata": {},
   "source": [
    "##### Restante\n",
    "\n",
    "Ahora obten el restante de dividir 26 / 8 usando el operador %"
   ]
  },
  {
   "cell_type": "code",
   "execution_count": 6,
   "id": "06df6019-2880-42da-bc70-e8fe75b8085f",
   "metadata": {},
   "outputs": [
    {
     "name": "stdout",
     "output_type": "stream",
     "text": [
      "2\n"
     ]
    }
   ],
   "source": [
    "c=26%8\n",
    "print(c)"
   ]
  },
  {
   "cell_type": "markdown",
   "id": "7b682671-bc7b-4e34-8fe8-7b9034a43bc9",
   "metadata": {},
   "source": [
    "##### División de piso\n",
    "\n",
    "Divide 20//6 - verás como te da un resultado entero"
   ]
  },
  {
   "cell_type": "code",
   "execution_count": 7,
   "id": "e74bf267-cecf-4e6c-99ff-8e40b2aac32a",
   "metadata": {},
   "outputs": [
    {
     "name": "stdout",
     "output_type": "stream",
     "text": [
      "3\n"
     ]
    }
   ],
   "source": [
    "c= 20//6\n",
    "print(c)"
   ]
  },
  {
   "cell_type": "markdown",
   "id": "3259cdcb-13a8-40c6-99fa-bd6611dabc99",
   "metadata": {},
   "source": [
    "##### Agrupación con parentesis\n",
    "\n",
    "Checa que python respeta la jerarquia de operaciones"
   ]
  },
  {
   "cell_type": "markdown",
   "id": "f280f822-c9b1-4c44-91a3-c6a18ee83f2b",
   "metadata": {},
   "source": [
    "#### Por tu cuenta\n",
    "\n",
    "Evalua la expresión 3*(4-5) con y sin parentesis. Son los paréntesis redundantes?"
   ]
  },
  {
   "cell_type": "code",
   "execution_count": 8,
   "id": "61e96997",
   "metadata": {},
   "outputs": [
    {
     "name": "stdout",
     "output_type": "stream",
     "text": [
      "-3 y 7\n"
     ]
    }
   ],
   "source": [
    "c= 3*(4-5)\n",
    "d =3*4-5\n",
    "\n",
    "print (f\"{c} y {d}\")"
   ]
  },
  {
   "cell_type": "markdown",
   "id": "fc5d8121-3fa3-42e7-beb4-bee00ea356c4",
   "metadata": {},
   "source": [
    "---"
   ]
  },
  {
   "cell_type": "markdown",
   "id": "fcbe6ca4-24fd-4150-b7bb-f870814b662e",
   "metadata": {},
   "source": [
    "## 2.3.- Función print, arreglos con comillas simples y dobles comillas"
   ]
  },
  {
   "cell_type": "markdown",
   "id": "d5b0476e-8651-4ade-acbe-5a03a0866865",
   "metadata": {},
   "source": [
    "### 2.3.1.- La función Print"
   ]
  },
  {
   "cell_type": "markdown",
   "id": "18ca616b-3a2c-4184-8381-3a5e6a970e8d",
   "metadata": {},
   "source": [
    "ejecuta el siguiente snippet\n",
    "\n",
    "**print(“Hoy aprenderé a usar la función print”)**"
   ]
  },
  {
   "cell_type": "code",
   "execution_count": 10,
   "id": "058c39e6-75ad-4a4a-b97c-44dc1d4bd4cc",
   "metadata": {},
   "outputs": [
    {
     "name": "stdout",
     "output_type": "stream",
     "text": [
      "Hoy aprenderé a usar la función print\n"
     ]
    }
   ],
   "source": [
    "print(\"Hoy aprenderé a usar la función print\")"
   ]
  },
  {
   "cell_type": "markdown",
   "id": "bde0dc8c-4eaf-4745-99f3-28da569395a3",
   "metadata": {},
   "source": [
    "### 2.3.1.- Triples comillas\n",
    "\n",
    "usalas"
   ]
  },
  {
   "cell_type": "code",
   "execution_count": null,
   "id": "e0fdec45-8cb7-4be5-994c-87eef67685d9",
   "metadata": {},
   "outputs": [],
   "source": [
    "\"\"\" Esto es un comentario\"\"\""
   ]
  },
  {
   "cell_type": "markdown",
   "id": "ea86c6b8-771a-4617-9fec-a93916e87a53",
   "metadata": {},
   "source": [
    "Esta diferencia será más obvia cuando trabajemos líneas de texto en el ambiente de JupyterLab.\n",
    "Otras opciones para insertar texto el prompt de Anaconda son\n",
    "\n",
    "**print(‘Hoy aprenderé’,’a usar’, ‘la función print’)**\n",
    "\n",
    "**print(‘Hoy aprenderé\\n a usar\\n la función print’)**\n",
    "\n",
    "\n",
    "print(‘También aprenderé a dividir \\\n",
    "\n",
    "…: líneas de texto cuando las expresiones \\\n",
    "\n",
    "…: sean demasiado largas’)"
   ]
  },
  {
   "cell_type": "code",
   "execution_count": 11,
   "id": "fe21f618-e1aa-450a-a732-ac880a71eaba",
   "metadata": {},
   "outputs": [
    {
     "name": "stdout",
     "output_type": "stream",
     "text": [
      "Hoy aprenderé’,’a usar’, ‘la función print\n"
     ]
    }
   ],
   "source": [
    "print(\"Hoy aprenderé’,’a usar’, ‘la función print\")"
   ]
  },
  {
   "cell_type": "code",
   "execution_count": 12,
   "id": "c6db0446-e2b8-4222-8607-613a16ff8329",
   "metadata": {},
   "outputs": [
    {
     "name": "stdout",
     "output_type": "stream",
     "text": [
      "Hoy aprenderé\n",
      " a usar\n",
      " la función print\n"
     ]
    }
   ],
   "source": [
    "print('Hoy aprenderé\\n a usar\\n la función print')"
   ]
  },
  {
   "cell_type": "markdown",
   "id": "da8ab0c5-ed69-491b-b0c3-b951eab1b304",
   "metadata": {},
   "source": [
    "Cuando requieras utilizar comillas dobles y sencillas en algún enunciado, por ejemplo\n",
    "\n",
    "Aprender ‘Python’, es realmente “sencillo”\n",
    "\n",
    "Es posible hacerlo utilizando triples comillas"
   ]
  },
  {
   "cell_type": "markdown",
   "id": "13741755-cfd3-4ced-bd60-8722bc73c0d2",
   "metadata": {},
   "source": [
    "Con Python, puedes asignar a una variable un arreglo de caracteres\n",
    "\n",
    "**arreglo1=‘Hoy aprenderé a usar la función print’**"
   ]
  },
  {
   "cell_type": "code",
   "execution_count": 13,
   "id": "a825385d-73b8-4468-8bd3-594a5d7d6abe",
   "metadata": {},
   "outputs": [],
   "source": [
    "arreglo1=\"Hoy aprenderé a usar la función print\""
   ]
  },
  {
   "cell_type": "code",
   "execution_count": 14,
   "id": "c4bd2820-8dc7-4cdc-9cec-4b0f2040c59d",
   "metadata": {},
   "outputs": [
    {
     "name": "stdout",
     "output_type": "stream",
     "text": [
      "Hoy aprenderé a usar la función print\n"
     ]
    }
   ],
   "source": [
    "print (arreglo1)"
   ]
  },
  {
   "cell_type": "markdown",
   "id": "3b14599d-02fb-4c28-8dfd-b27b01ee8e28",
   "metadata": {},
   "source": [
    "Con estas herramientas, ya puedes mostrar los resultados de los cálculos en una forma más amigable\n",
    "\n",
    "Arma un programa que divida 2 variables y devuelva \"w elevado a la z da por resultado y\""
   ]
  },
  {
   "cell_type": "code",
   "execution_count": 15,
   "id": "6e2e6bd5-ccdc-4dad-9a3b-a98149839106",
   "metadata": {},
   "outputs": [
    {
     "name": "stdout",
     "output_type": "stream",
     "text": [
      "40353607\n"
     ]
    }
   ],
   "source": [
    "w = 7\n",
    "z = 9\n",
    "y = w**z\n",
    "print (y)"
   ]
  },
  {
   "cell_type": "markdown",
   "id": "b4585070-9949-427a-84f5-ccf0a3a7f9a1",
   "metadata": {},
   "source": [
    "### 2.3.1.- Obtener input del usuario\n",
    "\n",
    "Input que solicita al usuario la información específica que debe ingresar al programa\n",
    "\n",
    "**nombre=input(‘¿Cuál es tu nombre?’)**"
   ]
  },
  {
   "cell_type": "code",
   "execution_count": 20,
   "id": "371649c1-a963-41d4-8025-670791d36f73",
   "metadata": {},
   "outputs": [
    {
     "name": "stdout",
     "output_type": "stream",
     "text": [
      "algo\n"
     ]
    }
   ],
   "source": [
    "nombre =input(\"¿Cual es tu nombre\")\n",
    "print(nombre)"
   ]
  },
  {
   "cell_type": "markdown",
   "id": "a853d83c-f42c-4ed3-83eb-2f76d179f626",
   "metadata": {},
   "source": [
    "Posteriormente puedes llamar a la variable nombre"
   ]
  },
  {
   "cell_type": "markdown",
   "id": "f4591abb-8139-466e-a48b-cda83af1bd14",
   "metadata": {},
   "source": [
    "Por default, Python guarda las entradas que recibe del comando input como un arreglo. Checa el type en cuestión"
   ]
  },
  {
   "cell_type": "code",
   "execution_count": 23,
   "id": "cd0ea52b-96b1-4fcd-8be9-322e95a877aa",
   "metadata": {},
   "outputs": [
    {
     "data": {
      "text/plain": [
       "str"
      ]
     },
     "execution_count": 23,
     "metadata": {},
     "output_type": "execute_result"
    }
   ],
   "source": [
    "dato =type(nombre)\n",
    "dato"
   ]
  },
  {
   "cell_type": "markdown",
   "id": "5a50edd7-4634-4c10-a0f9-e2a3fb07cd84",
   "metadata": {},
   "source": [
    "Arma un programa que te pida 2 números y los sume"
   ]
  },
  {
   "cell_type": "code",
   "execution_count": 26,
   "id": "74947eed-8b26-4a2a-9c0e-567bd73988b7",
   "metadata": {},
   "outputs": [
    {
     "name": "stdout",
     "output_type": "stream",
     "text": [
      "la suma de tus numeros es: 3\n"
     ]
    }
   ],
   "source": [
    "dameuno = int(input(\"dame un numero\"))\n",
    "damedos = int(input(\"dame otro numero\"))\n",
    "suma = (f\"la suma de tus numeros es: {dameuno+damedos}\")\n",
    "print (suma)"
   ]
  },
  {
   "cell_type": "markdown",
   "id": "ff47d95b-02aa-4c5a-a539-df106c393c09",
   "metadata": {},
   "source": [
    "---"
   ]
  },
  {
   "cell_type": "markdown",
   "id": "58b2b137-def5-4acb-ae48-f07f3783d3de",
   "metadata": {},
   "source": [
    "---"
   ]
  }
 ],
 "metadata": {
  "kernelspec": {
   "display_name": "Python 3",
   "language": "python",
   "name": "python3"
  },
  "language_info": {
   "codemirror_mode": {
    "name": "ipython",
    "version": 3
   },
   "file_extension": ".py",
   "mimetype": "text/x-python",
   "name": "python",
   "nbconvert_exporter": "python",
   "pygments_lexer": "ipython3",
   "version": "3.11.3"
  }
 },
 "nbformat": 4,
 "nbformat_minor": 5
}
